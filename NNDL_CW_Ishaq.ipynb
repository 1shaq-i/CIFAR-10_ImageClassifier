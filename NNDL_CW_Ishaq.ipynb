{
  "cells": [
    {
      "cell_type": "markdown",
      "source": [
        "# Model Definition"
      ],
      "metadata": {
        "id": "09Q3ixLRPhUo"
      }
    },
    {
      "cell_type": "markdown",
      "source": [
        "**Part 1 of Model Definition**\n",
        "\n",
        "This part of the code:\n",
        "\n",
        "- Downloads and loads the CIFAR-10 dataset, as required.\n",
        "\n",
        "- Applies data augmentation (horizontal flip, random crop, normalization) to improve generalization.\n",
        "\n",
        "- Uses DataLoader to efficiently batch and shuffle data for training and validation.\n",
        "\n",
        "- Utilizes pin_memory and multiple workers for performance optimization.\n",
        "\n",
        "This should satisfy Task 1\n",
        "\n",
        "\n",
        "---\n",
        "\n",
        "\n",
        "\n",
        "**Part 2 of Model Definition**\n",
        "\n",
        "This section implements the model as described in the coursework slides:\n",
        "\n",
        "- Stem: A convolutional layer followed by BatchNorm, ReLU, and MaxPooling.\n",
        "\n",
        "- Backbone: Multiple blocks (B1–B3) consisting of:\n",
        "\n",
        "- An expert branch that applies Spatial Average Pooling followed by FC1 → ReLU → FC2 → Softmax to compute expert weights.\n",
        "\n",
        "- Multiple convolutional branches (K=4) whose outputs are weighted and summed based on the expert vector a.\n",
        "\n",
        "- Classifier: Uses Global Average Pooling and a final fully connected layer to output predictions for 10 classes.\n",
        "\n",
        "This part should satisfy Task 2 (a more detailed explanation of the model is described in another part of this notebook)"
      ],
      "metadata": {
        "id": "n24RgVeecc7R"
      }
    },
    {
      "cell_type": "code",
      "execution_count": 1,
      "metadata": {
        "id": "IS7rpZSIcw5a",
        "colab": {
          "base_uri": "https://localhost:8080/"
        },
        "outputId": "0052a50d-375a-436b-d488-853f271824cb"
      },
      "outputs": [
        {
          "output_type": "stream",
          "name": "stderr",
          "text": [
            "100%|██████████| 170M/170M [00:04<00:00, 42.0MB/s]\n"
          ]
        }
      ],
      "source": [
        "# --- PART 1 OF CODE ---\n",
        "import torch\n",
        "import torch.nn as nn\n",
        "import torchvision\n",
        "import torchvision.transforms as transforms\n",
        "from torch.utils.data import DataLoader\n",
        "import torch.backends.cudnn as cudnn\n",
        "\n",
        "# Enable optimized GPU performance if CUDA GPU is available\n",
        "cudnn.benchmark = True\n",
        "\n",
        "# Data augmentation to improve model generalization and avoid overfitting\n",
        "transform = transforms.Compose([\n",
        "    transforms.RandomHorizontalFlip(),        # Randomly flip images horizontally\n",
        "    transforms.RandomCrop(32, padding=4),     # Randomly crop images with padding\n",
        "    transforms.ToTensor(),                    # Convert images to PyTorch tensors\n",
        "    transforms.Normalize((0.5, 0.5, 0.5),     # Normalize images to range [-1, 1]\n",
        "                         (0.5, 0.5, 0.5))\n",
        "])\n",
        "\n",
        "# Load CIFAR-10 dataset for training and validation\n",
        "trainset = torchvision.datasets.CIFAR10(root='./data', train=True, download=True, transform=transform)\n",
        "testset = torchvision.datasets.CIFAR10(root='./data', train=False, download=True, transform=transform)\n",
        "\n",
        "# Use entire dataset without splitting further\n",
        "trainset, _ = torch.utils.data.random_split(trainset, [50000, 0])\n",
        "\n",
        "# Define optimized DataLoaders with larger batch size for faster training\n",
        "trainloader = DataLoader(trainset, batch_size=256, shuffle=True, num_workers=2, pin_memory=True)\n",
        "testloader = DataLoader(testset, batch_size=256, shuffle=False, num_workers=2, pin_memory=True)\n",
        "\n",
        "\n",
        "# --- PART 2 OF CODE ---\n",
        "\n",
        "# Define the ExpertBranch used within the backbone blocks\n",
        "class ExpertBranch(nn.Module):\n",
        "    def __init__(self, in_channels, K=4, reduction=4):\n",
        "        super(ExpertBranch, self).__init__()\n",
        "        self.pool = nn.AdaptiveAvgPool2d(1)  # Pool input to single spatial point, Spatial Average Pool\n",
        "        self.fc1 = nn.Linear(in_channels, in_channels // reduction)  # Reduce dimensionality\n",
        "        self.relu = nn.ReLU()  # Activation function\n",
        "        self.fc2 = nn.Linear(in_channels // reduction, K)  # Predict weighting for K branches\n",
        "        self.softmax = nn.Softmax(dim=1)  # Normalize predictions to sum to 1\n",
        "\n",
        "    def forward(self, x):\n",
        "        x = self.pool(x).view(x.size(0), -1)  # Pool and flatten\n",
        "        x = self.relu(self.fc1(x))            # Reduce dimensions and activate\n",
        "        x = self.softmax(self.fc2(x))         # Predict and normalize\n",
        "        return x\n",
        "\n",
        "# Define BackboneBlock that dynamically combines convolutional outputs\n",
        "class BackboneBlock(nn.Module):\n",
        "    def __init__(self, in_channels, K=4):\n",
        "        super(BackboneBlock, self).__init__()\n",
        "        self.expert_branch = ExpertBranch(in_channels, K)\n",
        "        # Define multiple convolutional layers (experts)\n",
        "        self.convs = nn.ModuleList([\n",
        "            nn.Conv2d(in_channels, in_channels, kernel_size=3, padding=1) for _ in range(K)\n",
        "        ])\n",
        "        self.bn = nn.BatchNorm2d(in_channels)  # Batch normalization\n",
        "        self.relu = nn.ReLU()                  # Activation function\n",
        "\n",
        "    def forward(self, x):\n",
        "        a = self.expert_branch(x)  # Expert weighting predictions\n",
        "        # Dynamically combine outputs of each convolution using expert weights\n",
        "        out = sum(a[:, i].view(-1, 1, 1, 1) * self.convs[i](x) for i in range(len(self.convs)))\n",
        "        out = self.relu(self.bn(out))  # Normalize and activate output\n",
        "        return out\n",
        "\n",
        "# Define complete CNN architecture\n",
        "class CNN(nn.Module):\n",
        "    def __init__(self, num_classes=10):\n",
        "        super(CNN, self).__init__()\n",
        "        # Stem layer (initial feature extraction)\n",
        "        self.conv1 = nn.Conv2d(3, 64, kernel_size=3, padding=1)\n",
        "        self.bn1 = nn.BatchNorm2d(64)\n",
        "        self.relu = nn.ReLU()\n",
        "        self.pool = nn.MaxPool2d(2)\n",
        "\n",
        "        # Backbone consists of 3 sequential Backbone Blocks\n",
        "        self.backbone1 = BackboneBlock(64, K=4)\n",
        "        self.pool1 = nn.MaxPool2d(2)\n",
        "        self.backbone2 = BackboneBlock(64, K=4)\n",
        "        self.pool2 = nn.MaxPool2d(2)\n",
        "        self.backbone3 = BackboneBlock(64, K=4)\n",
        "        self.pool3 = nn.MaxPool2d(2)\n",
        "\n",
        "        # Global average pooling and classifier\n",
        "        self.global_avg_pool = nn.AdaptiveAvgPool2d(1)\n",
        "        self.fc = nn.Linear(64, num_classes)\n",
        "\n",
        "    def forward(self, x):\n",
        "        x = self.relu(self.bn1(self.conv1(x)))\n",
        "        x = self.pool(x)\n",
        "        x = self.pool1(self.backbone1(x))\n",
        "        x = self.pool2(self.backbone2(x))\n",
        "        x = self.pool3(self.backbone3(x))\n",
        "        x = self.global_avg_pool(x)\n",
        "        x = torch.flatten(x, start_dim=1)\n",
        "        x = self.fc(x)\n",
        "        return x\n"
      ]
    },
    {
      "cell_type": "markdown",
      "source": [
        "# Describing the model\n",
        "\n",
        "**ExpertBranch**\n",
        "\n",
        "Purpose: Let the model decide dynamically how much to rely on each expert convolution.\n",
        "\n",
        "This module predicts a weight vector a = [a₁, ..., aₖ] for combining multiple convolutional outputs.\n",
        "\n",
        "Explanation of how it works:\n",
        "\n",
        "- AdaptiveAvgPool2d(1): Applies spatial average pooling to collapse the spatial dimensions of the feature map, resulting in a vector of shape [batch_size, channels].\n",
        "\n",
        "- FC1 → ReLU → FC2: Reduces the vector's dimensionality and transforms it into a vector of length K (number of expert branches).\n",
        "\n",
        "- Softmax: Ensures the weights a sum to 1, so they can be used to combine outputs from different experts.\n",
        "\n",
        "\n",
        "---\n",
        "\n",
        "\n",
        "\n",
        "**BackboneBlock – Weighted Combination of Expert Convolutions**\n",
        "\n",
        "Purpose: Enables the network to adaptively mix different convolutional filters, allowing flexibility and richer representations.\n",
        "\n",
        "Each backbone block uses multiple convolutional experts, weighted using ExpertBranch.\n",
        "\n",
        "Explanation of how it works:\n",
        "\n",
        "- The input is passed to the ExpertBranch to get the vector a.\n",
        "\n",
        "- The same input is passed through K convolutional layers.\n",
        "\n",
        "- Each output is multiplied by its corresponding weight aₖ, then summed together.\n",
        "\n",
        "- The combined output is passed through BatchNorm and ReLU.\n",
        "\n",
        "\n",
        "\n",
        "---\n",
        "\n",
        "**CNN – The Complete Model (Stem → Backbone → Classifier)**\n",
        "\n",
        "Purpose: End-to-end classification network that uses dynamic blocks for flexible, learned feature extraction.\n",
        "\n",
        "Structure:\n",
        "\n",
        "- Stem: One initial convolution + batch norm + ReLU + pooling to begin feature extraction.\n",
        "\n",
        "- Backbone:\n",
        "\n",
        "  - Three BackboneBlocks.\n",
        "\n",
        "  - Each block is followed by a pooling layer to reduce spatial dimensions.\n",
        "\n",
        "- Classifier:\n",
        "\n",
        "  - A Global Average Pooling reduces the feature map to a single vector.\n",
        "\n",
        "  - A fully connected layer maps this vector to 10 output classes.\n",
        "---\n"
      ],
      "metadata": {
        "id": "okIhPzEHhirc"
      }
    },
    {
      "cell_type": "markdown",
      "source": [
        "# Training the CNN + Results"
      ],
      "metadata": {
        "id": "9peWay-gQH1C"
      }
    },
    {
      "cell_type": "markdown",
      "source": [
        "**Create the Loss and Optimizer**\n",
        "\n",
        "```\n",
        "criterion = nn.CrossEntropyLoss()\n",
        "optimizer = optim.Adam(model.parameters(), lr=lr, weight_decay=1e-4)\n",
        "scheduler = torch.optim.lr_scheduler.StepLR(optimizer, step_size=5, gamma=0.5)\n",
        "\n",
        "```\n",
        "The code uses:\n",
        "- CrossEntropyLoss for multi-class classification.\n",
        "\n",
        "- Adam optimizer, chosen for its adaptive learning rate capabilities.\n",
        "\n",
        "- A StepLR scheduler is applied to reduce the learning rate every 5 epochs (LR is halved by multiplying it by the gamma=0.5), improving stability and final accuracy.\n",
        "\n",
        "This part should satisfy Task 3.\n",
        "\n",
        "---\n",
        "**Training Script**\n",
        "\n",
        "```\n",
        "def train_model(...): ...\n",
        "train_losses, test_losses, train_accs, test_accs = train_model(...)\n",
        "\n",
        "```\n",
        "The code implements a complete training loop including:\n",
        "\n",
        "- Forward pass\n",
        "\n",
        "- Backpropagation using GradScaler for mixed precision\n",
        "\n",
        "- Evaluation on validation set\n",
        "\n",
        "- Tracks and logs training/test accuracy and loss after each epoch.\n",
        "\n",
        "- Uses tqdm for real-time progress bars and time estimation.\n",
        "\n",
        "```\n",
        "# Plotting curves\n",
        "plt.plot(...)  # Loss and Accuracy Curves\n",
        "\n",
        "```\n",
        "Additionally, it returns and plots:\n",
        "- the curves for evolution loss at the end of training\n",
        "- the curves for the evolution of training and validation (test) accuracies.\n",
        "\n",
        "\n"
      ],
      "metadata": {
        "id": "Ew3xoQFRpcYg"
      }
    },
    {
      "cell_type": "code",
      "source": [
        "import torch.optim as optim\n",
        "from tqdm import tqdm\n",
        "import matplotlib.pyplot as plt\n",
        "import time\n",
        "\n",
        "# Define optimized training function\n",
        "def train_model(model, trainloader, testloader, num_epochs=50, lr=0.0045, device='cuda'):\n",
        "    device = torch.device(device if torch.cuda.is_available() else 'cpu')\n",
        "    model.to(device)\n",
        "\n",
        "    # Loss function and optimizer with learning rate scheduler for improved convergence\n",
        "\n",
        "    # Define the loss function — CrossEntropyLoss is standard for multi-class classification\n",
        "    criterion = nn.CrossEntropyLoss()\n",
        "\n",
        "    # Adam optimizer with initial learning rate and weight decay for regularization\n",
        "    optimizer = optim.Adam(model.parameters(), lr=lr, weight_decay=1e-4)\n",
        "\n",
        "    # Learning rate scheduler: reduces LR by half every 8 epochs to fine-tune the model\n",
        "    scheduler = optim.lr_scheduler.StepLR(optimizer, step_size=8, gamma=0.5)\n",
        "\n",
        "    scaler = torch.cuda.amp.GradScaler()  # Mixed precision training for speedup\n",
        "\n",
        "    # Lists to store metrics across epochs\n",
        "    train_losses, test_losses, train_accs, test_accs = [], [], [], []\n",
        "    start_time = time.time()  # For measuring total training time\n",
        "\n",
        "    # Training loop\n",
        "    for epoch in range(num_epochs):\n",
        "        model.train()\n",
        "        running_loss, correct, total = 0.0, 0, 0\n",
        "\n",
        "        # TQDM progress bar for real-time feedback\n",
        "        progress_bar = tqdm(trainloader, desc=f\"Epoch {epoch+1}/{num_epochs}\")\n",
        "\n",
        "        # Training loop per batch\n",
        "        for inputs, labels in progress_bar:\n",
        "            inputs, labels = inputs.to(device), labels.to(device)\n",
        "            optimizer.zero_grad()\n",
        "\n",
        "            # Enable automatic mixed precision for forward + backward pass\n",
        "            with torch.cuda.amp.autocast():\n",
        "                outputs = model(inputs)         # Forward pass\n",
        "                loss = criterion(outputs, labels)   # Compute Loss\n",
        "\n",
        "\n",
        "            # Backpropagation using gradient scaling\n",
        "            scaler.scale(loss).backward()\n",
        "            scaler.step(optimizer)\n",
        "            scaler.update()\n",
        "\n",
        "            # Update running metrics\n",
        "            running_loss += loss.item()\n",
        "            _, predicted = outputs.max(1)\n",
        "            correct += predicted.eq(labels).sum().item()\n",
        "            total += labels.size(0)\n",
        "            progress_bar.set_postfix(loss=running_loss/total, acc=100.*correct/total)\n",
        "\n",
        "        scheduler.step()  # Step the scheduler to decay learning rate if necessary\n",
        "\n",
        "        # Record training performance\n",
        "        train_losses.append(running_loss / len(trainloader))\n",
        "        train_accs.append(100. * correct / total)\n",
        "\n",
        "        # Evaluate on validation data\n",
        "        model.eval()\n",
        "        correct, total, test_loss = 0, 0, 0.0\n",
        "        with torch.no_grad():\n",
        "            for inputs, labels in testloader:\n",
        "                inputs, labels = inputs.to(device), labels.to(device)\n",
        "                outputs = model(inputs)\n",
        "                loss = criterion(outputs, labels)\n",
        "                test_loss += loss.item()\n",
        "                _, predicted = outputs.max(1)\n",
        "                correct += predicted.eq(labels).sum().item()\n",
        "                total += labels.size(0)\n",
        "\n",
        "        # Log validation metrics\n",
        "        test_losses.append(test_loss / len(testloader))\n",
        "        test_accs.append(100. * correct / total)\n",
        "\n",
        "        # Print summary for the current epoch\n",
        "        print(f\"Epoch {epoch+1}: Train Acc={train_accs[-1]:.2f}% | Test Acc={test_accs[-1]:.2f}%\")\n",
        "\n",
        "    # Display total training time\n",
        "    print(f\"Total Training Time: {(time.time() - start_time)/60:.2f} minutes\")\n",
        "    return train_losses, test_losses, train_accs, test_accs\n",
        "\n",
        "# Set training duration and initialize model\n",
        "num_epochs = 50\n",
        "model = CNN()\n",
        "train_losses, test_losses, train_accs, test_accs = train_model(model, trainloader, testloader, num_epochs=num_epochs)\n",
        "\n",
        "# ---------- Plotting Results ----------\n",
        "\n",
        "# Create a side-by-side plot of loss and accuracy\n",
        "plt.figure(figsize=(12,5))\n",
        "\n",
        "# Plot loss evolution over epochs\n",
        "plt.subplot(1,2,1)\n",
        "plt.plot(train_losses, label='Train Loss')\n",
        "plt.plot(test_losses, label='Test Loss')\n",
        "plt.xlabel('Epoch')\n",
        "plt.ylabel('Loss')\n",
        "plt.title('Loss Evolution')\n",
        "plt.legend()\n",
        "\n",
        "# Plot accuracy evolution over epochs\n",
        "plt.subplot(1,2,2)\n",
        "plt.plot(train_accs, label='Train Accuracy')\n",
        "plt.plot(test_accs, label='Test Accuracy')\n",
        "plt.xlabel('Epoch')\n",
        "plt.ylabel('Accuracy (%)')\n",
        "plt.title('Accuracy Evolution')\n",
        "plt.legend()\n",
        "\n",
        "# Improve layout and display\n",
        "plt.tight_layout()\n",
        "plt.show()\n"
      ],
      "metadata": {
        "colab": {
          "base_uri": "https://localhost:8080/",
          "height": 1000
        },
        "id": "iOhL3QyeQHKr",
        "outputId": "82eaa797-110e-4f76-a4e3-0445cbd41640"
      },
      "execution_count": 2,
      "outputs": [
        {
          "output_type": "stream",
          "name": "stderr",
          "text": [
            "<ipython-input-2-884f0854e880>:22: FutureWarning: `torch.cuda.amp.GradScaler(args...)` is deprecated. Please use `torch.amp.GradScaler('cuda', args...)` instead.\n",
            "  scaler = torch.cuda.amp.GradScaler()  # Mixed precision training for speedup\n",
            "Epoch 1/50:   0%|          | 0/196 [00:00<?, ?it/s]<ipython-input-2-884f0854e880>:42: FutureWarning: `torch.cuda.amp.autocast(args...)` is deprecated. Please use `torch.amp.autocast('cuda', args...)` instead.\n",
            "  with torch.cuda.amp.autocast():\n",
            "Epoch 1/50: 100%|██████████| 196/196 [00:22<00:00,  8.84it/s, acc=47.6, loss=0.00559]\n"
          ]
        },
        {
          "output_type": "stream",
          "name": "stdout",
          "text": [
            "Epoch 1: Train Acc=47.57% | Test Acc=54.58%\n"
          ]
        },
        {
          "output_type": "stream",
          "name": "stderr",
          "text": [
            "Epoch 2/50: 100%|██████████| 196/196 [00:19<00:00,  9.90it/s, acc=62.9, loss=0.00406]\n"
          ]
        },
        {
          "output_type": "stream",
          "name": "stdout",
          "text": [
            "Epoch 2: Train Acc=62.93% | Test Acc=64.94%\n"
          ]
        },
        {
          "output_type": "stream",
          "name": "stderr",
          "text": [
            "Epoch 3/50: 100%|██████████| 196/196 [00:18<00:00, 10.49it/s, acc=69.1, loss=0.00342]\n"
          ]
        },
        {
          "output_type": "stream",
          "name": "stdout",
          "text": [
            "Epoch 3: Train Acc=69.12% | Test Acc=66.76%\n"
          ]
        },
        {
          "output_type": "stream",
          "name": "stderr",
          "text": [
            "Epoch 4/50: 100%|██████████| 196/196 [00:19<00:00, 10.15it/s, acc=72.3, loss=0.00309]\n"
          ]
        },
        {
          "output_type": "stream",
          "name": "stdout",
          "text": [
            "Epoch 4: Train Acc=72.31% | Test Acc=69.28%\n"
          ]
        },
        {
          "output_type": "stream",
          "name": "stderr",
          "text": [
            "Epoch 5/50: 100%|██████████| 196/196 [00:18<00:00, 10.32it/s, acc=74.3, loss=0.00287]\n"
          ]
        },
        {
          "output_type": "stream",
          "name": "stdout",
          "text": [
            "Epoch 5: Train Acc=74.35% | Test Acc=73.64%\n"
          ]
        },
        {
          "output_type": "stream",
          "name": "stderr",
          "text": [
            "Epoch 6/50: 100%|██████████| 196/196 [00:19<00:00,  9.97it/s, acc=76.1, loss=0.00269]\n"
          ]
        },
        {
          "output_type": "stream",
          "name": "stdout",
          "text": [
            "Epoch 6: Train Acc=76.10% | Test Acc=72.31%\n"
          ]
        },
        {
          "output_type": "stream",
          "name": "stderr",
          "text": [
            "Epoch 7/50: 100%|██████████| 196/196 [00:19<00:00, 10.08it/s, acc=77.2, loss=0.00256]\n"
          ]
        },
        {
          "output_type": "stream",
          "name": "stdout",
          "text": [
            "Epoch 7: Train Acc=77.25% | Test Acc=68.60%\n"
          ]
        },
        {
          "output_type": "stream",
          "name": "stderr",
          "text": [
            "Epoch 8/50: 100%|██████████| 196/196 [00:18<00:00, 10.58it/s, acc=78.3, loss=0.00246]\n"
          ]
        },
        {
          "output_type": "stream",
          "name": "stdout",
          "text": [
            "Epoch 8: Train Acc=78.28% | Test Acc=75.53%\n"
          ]
        },
        {
          "output_type": "stream",
          "name": "stderr",
          "text": [
            "Epoch 9/50: 100%|██████████| 196/196 [00:18<00:00, 10.51it/s, acc=81.5, loss=0.00209]\n"
          ]
        },
        {
          "output_type": "stream",
          "name": "stdout",
          "text": [
            "Epoch 9: Train Acc=81.49% | Test Acc=79.03%\n"
          ]
        },
        {
          "output_type": "stream",
          "name": "stderr",
          "text": [
            "Epoch 10/50: 100%|██████████| 196/196 [00:19<00:00, 10.03it/s, acc=82.1, loss=0.00202]\n"
          ]
        },
        {
          "output_type": "stream",
          "name": "stdout",
          "text": [
            "Epoch 10: Train Acc=82.13% | Test Acc=78.76%\n"
          ]
        },
        {
          "output_type": "stream",
          "name": "stderr",
          "text": [
            "Epoch 11/50: 100%|██████████| 196/196 [00:19<00:00,  9.97it/s, acc=82.6, loss=0.00195]\n"
          ]
        },
        {
          "output_type": "stream",
          "name": "stdout",
          "text": [
            "Epoch 11: Train Acc=82.62% | Test Acc=79.73%\n"
          ]
        },
        {
          "output_type": "stream",
          "name": "stderr",
          "text": [
            "Epoch 12/50: 100%|██████████| 196/196 [00:18<00:00, 10.36it/s, acc=83.3, loss=0.00189]\n"
          ]
        },
        {
          "output_type": "stream",
          "name": "stdout",
          "text": [
            "Epoch 12: Train Acc=83.30% | Test Acc=79.56%\n"
          ]
        },
        {
          "output_type": "stream",
          "name": "stderr",
          "text": [
            "Epoch 13/50: 100%|██████████| 196/196 [00:20<00:00,  9.76it/s, acc=83.5, loss=0.00186]\n"
          ]
        },
        {
          "output_type": "stream",
          "name": "stdout",
          "text": [
            "Epoch 13: Train Acc=83.46% | Test Acc=81.49%\n"
          ]
        },
        {
          "output_type": "stream",
          "name": "stderr",
          "text": [
            "Epoch 14/50: 100%|██████████| 196/196 [00:19<00:00, 10.24it/s, acc=83.9, loss=0.00181]\n"
          ]
        },
        {
          "output_type": "stream",
          "name": "stdout",
          "text": [
            "Epoch 14: Train Acc=83.90% | Test Acc=80.03%\n"
          ]
        },
        {
          "output_type": "stream",
          "name": "stderr",
          "text": [
            "Epoch 15/50: 100%|██████████| 196/196 [00:19<00:00,  9.82it/s, acc=83.9, loss=0.0018]\n"
          ]
        },
        {
          "output_type": "stream",
          "name": "stdout",
          "text": [
            "Epoch 15: Train Acc=83.88% | Test Acc=79.79%\n"
          ]
        },
        {
          "output_type": "stream",
          "name": "stderr",
          "text": [
            "Epoch 16/50: 100%|██████████| 196/196 [00:20<00:00,  9.76it/s, acc=84.4, loss=0.00177]\n"
          ]
        },
        {
          "output_type": "stream",
          "name": "stdout",
          "text": [
            "Epoch 16: Train Acc=84.37% | Test Acc=81.29%\n"
          ]
        },
        {
          "output_type": "stream",
          "name": "stderr",
          "text": [
            "Epoch 17/50: 100%|██████████| 196/196 [00:19<00:00,  9.83it/s, acc=86.3, loss=0.00156]\n"
          ]
        },
        {
          "output_type": "stream",
          "name": "stdout",
          "text": [
            "Epoch 17: Train Acc=86.27% | Test Acc=82.44%\n"
          ]
        },
        {
          "output_type": "stream",
          "name": "stderr",
          "text": [
            "Epoch 18/50: 100%|██████████| 196/196 [00:18<00:00, 10.32it/s, acc=86.9, loss=0.0015]\n"
          ]
        },
        {
          "output_type": "stream",
          "name": "stdout",
          "text": [
            "Epoch 18: Train Acc=86.86% | Test Acc=82.80%\n"
          ]
        },
        {
          "output_type": "stream",
          "name": "stderr",
          "text": [
            "Epoch 19/50: 100%|██████████| 196/196 [00:18<00:00, 10.42it/s, acc=87.2, loss=0.00145]\n"
          ]
        },
        {
          "output_type": "stream",
          "name": "stdout",
          "text": [
            "Epoch 19: Train Acc=87.23% | Test Acc=83.01%\n"
          ]
        },
        {
          "output_type": "stream",
          "name": "stderr",
          "text": [
            "Epoch 20/50: 100%|██████████| 196/196 [00:19<00:00,  9.95it/s, acc=87, loss=0.00145]\n"
          ]
        },
        {
          "output_type": "stream",
          "name": "stdout",
          "text": [
            "Epoch 20: Train Acc=86.97% | Test Acc=83.21%\n"
          ]
        },
        {
          "output_type": "stream",
          "name": "stderr",
          "text": [
            "Epoch 21/50: 100%|██████████| 196/196 [00:20<00:00,  9.73it/s, acc=87.5, loss=0.00141]\n"
          ]
        },
        {
          "output_type": "stream",
          "name": "stdout",
          "text": [
            "Epoch 21: Train Acc=87.47% | Test Acc=82.50%\n"
          ]
        },
        {
          "output_type": "stream",
          "name": "stderr",
          "text": [
            "Epoch 22/50: 100%|██████████| 196/196 [00:19<00:00,  9.83it/s, acc=87.5, loss=0.00141]\n"
          ]
        },
        {
          "output_type": "stream",
          "name": "stdout",
          "text": [
            "Epoch 22: Train Acc=87.50% | Test Acc=83.35%\n"
          ]
        },
        {
          "output_type": "stream",
          "name": "stderr",
          "text": [
            "Epoch 23/50: 100%|██████████| 196/196 [00:18<00:00, 10.36it/s, acc=87.7, loss=0.00139]\n"
          ]
        },
        {
          "output_type": "stream",
          "name": "stdout",
          "text": [
            "Epoch 23: Train Acc=87.69% | Test Acc=83.69%\n"
          ]
        },
        {
          "output_type": "stream",
          "name": "stderr",
          "text": [
            "Epoch 24/50: 100%|██████████| 196/196 [00:18<00:00, 10.32it/s, acc=87.8, loss=0.00135]\n"
          ]
        },
        {
          "output_type": "stream",
          "name": "stdout",
          "text": [
            "Epoch 24: Train Acc=87.80% | Test Acc=83.81%\n"
          ]
        },
        {
          "output_type": "stream",
          "name": "stderr",
          "text": [
            "Epoch 25/50: 100%|██████████| 196/196 [00:20<00:00,  9.60it/s, acc=88.9, loss=0.00124]\n"
          ]
        },
        {
          "output_type": "stream",
          "name": "stdout",
          "text": [
            "Epoch 25: Train Acc=88.93% | Test Acc=84.55%\n"
          ]
        },
        {
          "output_type": "stream",
          "name": "stderr",
          "text": [
            "Epoch 26/50: 100%|██████████| 196/196 [00:20<00:00,  9.78it/s, acc=89.2, loss=0.00121]\n"
          ]
        },
        {
          "output_type": "stream",
          "name": "stdout",
          "text": [
            "Epoch 26: Train Acc=89.23% | Test Acc=84.51%\n"
          ]
        },
        {
          "output_type": "stream",
          "name": "stderr",
          "text": [
            "Epoch 27/50: 100%|██████████| 196/196 [00:19<00:00,  9.85it/s, acc=89.6, loss=0.00117]\n"
          ]
        },
        {
          "output_type": "stream",
          "name": "stdout",
          "text": [
            "Epoch 27: Train Acc=89.65% | Test Acc=84.85%\n"
          ]
        },
        {
          "output_type": "stream",
          "name": "stderr",
          "text": [
            "Epoch 28/50: 100%|██████████| 196/196 [00:19<00:00,  9.85it/s, acc=89.6, loss=0.00117]\n"
          ]
        },
        {
          "output_type": "stream",
          "name": "stdout",
          "text": [
            "Epoch 28: Train Acc=89.60% | Test Acc=84.58%\n"
          ]
        },
        {
          "output_type": "stream",
          "name": "stderr",
          "text": [
            "Epoch 29/50: 100%|██████████| 196/196 [00:19<00:00, 10.21it/s, acc=89.8, loss=0.00114]\n"
          ]
        },
        {
          "output_type": "stream",
          "name": "stdout",
          "text": [
            "Epoch 29: Train Acc=89.79% | Test Acc=85.15%\n"
          ]
        },
        {
          "output_type": "stream",
          "name": "stderr",
          "text": [
            "Epoch 30/50: 100%|██████████| 196/196 [00:19<00:00, 10.28it/s, acc=89.9, loss=0.00113]\n"
          ]
        },
        {
          "output_type": "stream",
          "name": "stdout",
          "text": [
            "Epoch 30: Train Acc=89.87% | Test Acc=85.01%\n"
          ]
        },
        {
          "output_type": "stream",
          "name": "stderr",
          "text": [
            "Epoch 31/50: 100%|██████████| 196/196 [00:19<00:00, 10.15it/s, acc=90, loss=0.00112]\n"
          ]
        },
        {
          "output_type": "stream",
          "name": "stdout",
          "text": [
            "Epoch 31: Train Acc=89.97% | Test Acc=84.74%\n"
          ]
        },
        {
          "output_type": "stream",
          "name": "stderr",
          "text": [
            "Epoch 32/50: 100%|██████████| 196/196 [00:19<00:00, 10.07it/s, acc=90.1, loss=0.00111]\n"
          ]
        },
        {
          "output_type": "stream",
          "name": "stdout",
          "text": [
            "Epoch 32: Train Acc=90.12% | Test Acc=85.15%\n"
          ]
        },
        {
          "output_type": "stream",
          "name": "stderr",
          "text": [
            "Epoch 33/50: 100%|██████████| 196/196 [00:19<00:00, 10.09it/s, acc=90.9, loss=0.00102]\n"
          ]
        },
        {
          "output_type": "stream",
          "name": "stdout",
          "text": [
            "Epoch 33: Train Acc=90.90% | Test Acc=85.36%\n"
          ]
        },
        {
          "output_type": "stream",
          "name": "stderr",
          "text": [
            "Epoch 34/50: 100%|██████████| 196/196 [00:19<00:00, 10.30it/s, acc=91, loss=0.00102]\n"
          ]
        },
        {
          "output_type": "stream",
          "name": "stdout",
          "text": [
            "Epoch 34: Train Acc=91.05% | Test Acc=85.61%\n"
          ]
        },
        {
          "output_type": "stream",
          "name": "stderr",
          "text": [
            "Epoch 35/50: 100%|██████████| 196/196 [00:18<00:00, 10.40it/s, acc=91.2, loss=0.00101]\n"
          ]
        },
        {
          "output_type": "stream",
          "name": "stdout",
          "text": [
            "Epoch 35: Train Acc=91.21% | Test Acc=85.85%\n"
          ]
        },
        {
          "output_type": "stream",
          "name": "stderr",
          "text": [
            "Epoch 36/50: 100%|██████████| 196/196 [00:19<00:00,  9.89it/s, acc=91.2, loss=0.000988]\n"
          ]
        },
        {
          "output_type": "stream",
          "name": "stdout",
          "text": [
            "Epoch 36: Train Acc=91.17% | Test Acc=85.32%\n"
          ]
        },
        {
          "output_type": "stream",
          "name": "stderr",
          "text": [
            "Epoch 37/50: 100%|██████████| 196/196 [00:19<00:00,  9.84it/s, acc=91.2, loss=0.000986]\n"
          ]
        },
        {
          "output_type": "stream",
          "name": "stdout",
          "text": [
            "Epoch 37: Train Acc=91.19% | Test Acc=85.57%\n"
          ]
        },
        {
          "output_type": "stream",
          "name": "stderr",
          "text": [
            "Epoch 38/50: 100%|██████████| 196/196 [00:20<00:00,  9.36it/s, acc=91.2, loss=0.000979]\n"
          ]
        },
        {
          "output_type": "stream",
          "name": "stdout",
          "text": [
            "Epoch 38: Train Acc=91.24% | Test Acc=85.77%\n"
          ]
        },
        {
          "output_type": "stream",
          "name": "stderr",
          "text": [
            "Epoch 39/50: 100%|██████████| 196/196 [00:19<00:00, 10.31it/s, acc=91.7, loss=0.000948]\n"
          ]
        },
        {
          "output_type": "stream",
          "name": "stdout",
          "text": [
            "Epoch 39: Train Acc=91.67% | Test Acc=85.37%\n"
          ]
        },
        {
          "output_type": "stream",
          "name": "stderr",
          "text": [
            "Epoch 40/50: 100%|██████████| 196/196 [00:18<00:00, 10.43it/s, acc=91.6, loss=0.000948]\n"
          ]
        },
        {
          "output_type": "stream",
          "name": "stdout",
          "text": [
            "Epoch 40: Train Acc=91.63% | Test Acc=85.72%\n"
          ]
        },
        {
          "output_type": "stream",
          "name": "stderr",
          "text": [
            "Epoch 41/50: 100%|██████████| 196/196 [00:19<00:00,  9.93it/s, acc=91.9, loss=0.000918]\n"
          ]
        },
        {
          "output_type": "stream",
          "name": "stdout",
          "text": [
            "Epoch 41: Train Acc=91.87% | Test Acc=85.93%\n"
          ]
        },
        {
          "output_type": "stream",
          "name": "stderr",
          "text": [
            "Epoch 42/50: 100%|██████████| 196/196 [00:19<00:00,  9.91it/s, acc=92, loss=0.000902]\n"
          ]
        },
        {
          "output_type": "stream",
          "name": "stdout",
          "text": [
            "Epoch 42: Train Acc=91.98% | Test Acc=86.14%\n"
          ]
        },
        {
          "output_type": "stream",
          "name": "stderr",
          "text": [
            "Epoch 43/50: 100%|██████████| 196/196 [00:19<00:00,  9.92it/s, acc=92.1, loss=0.000894]\n"
          ]
        },
        {
          "output_type": "stream",
          "name": "stdout",
          "text": [
            "Epoch 43: Train Acc=92.14% | Test Acc=85.92%\n"
          ]
        },
        {
          "output_type": "stream",
          "name": "stderr",
          "text": [
            "Epoch 44/50: 100%|██████████| 196/196 [00:19<00:00, 10.27it/s, acc=92.2, loss=0.000894]\n"
          ]
        },
        {
          "output_type": "stream",
          "name": "stdout",
          "text": [
            "Epoch 44: Train Acc=92.17% | Test Acc=86.07%\n"
          ]
        },
        {
          "output_type": "stream",
          "name": "stderr",
          "text": [
            "Epoch 45/50: 100%|██████████| 196/196 [00:19<00:00, 10.26it/s, acc=92.2, loss=0.000885]\n"
          ]
        },
        {
          "output_type": "stream",
          "name": "stdout",
          "text": [
            "Epoch 45: Train Acc=92.21% | Test Acc=86.16%\n"
          ]
        },
        {
          "output_type": "stream",
          "name": "stderr",
          "text": [
            "Epoch 46/50: 100%|██████████| 196/196 [00:19<00:00,  9.88it/s, acc=92.2, loss=0.000887]\n"
          ]
        },
        {
          "output_type": "stream",
          "name": "stdout",
          "text": [
            "Epoch 46: Train Acc=92.17% | Test Acc=86.29%\n"
          ]
        },
        {
          "output_type": "stream",
          "name": "stderr",
          "text": [
            "Epoch 47/50: 100%|██████████| 196/196 [00:20<00:00,  9.73it/s, acc=92.2, loss=0.000878]\n"
          ]
        },
        {
          "output_type": "stream",
          "name": "stdout",
          "text": [
            "Epoch 47: Train Acc=92.21% | Test Acc=85.89%\n"
          ]
        },
        {
          "output_type": "stream",
          "name": "stderr",
          "text": [
            "Epoch 48/50: 100%|██████████| 196/196 [00:20<00:00,  9.71it/s, acc=92.3, loss=0.000873]\n"
          ]
        },
        {
          "output_type": "stream",
          "name": "stdout",
          "text": [
            "Epoch 48: Train Acc=92.27% | Test Acc=85.93%\n"
          ]
        },
        {
          "output_type": "stream",
          "name": "stderr",
          "text": [
            "Epoch 49/50: 100%|██████████| 196/196 [00:19<00:00, 10.17it/s, acc=92.4, loss=0.00086]\n"
          ]
        },
        {
          "output_type": "stream",
          "name": "stdout",
          "text": [
            "Epoch 49: Train Acc=92.42% | Test Acc=85.95%\n"
          ]
        },
        {
          "output_type": "stream",
          "name": "stderr",
          "text": [
            "Epoch 50/50: 100%|██████████| 196/196 [00:19<00:00, 10.07it/s, acc=92.5, loss=0.000843]\n"
          ]
        },
        {
          "output_type": "stream",
          "name": "stdout",
          "text": [
            "Epoch 50: Train Acc=92.47% | Test Acc=86.44%\n",
            "Total Training Time: 19.16 minutes\n"
          ]
        },
        {
          "output_type": "display_data",
          "data": {
            "text/plain": [
              "<Figure size 1200x500 with 2 Axes>"
            ],
            "image/png": "[encoded data removed]"
          },
          "metadata": {}
        }
      ]
    },
    {
      "cell_type": "code",
      "source": [],
      "metadata": {
        "id": "qp0EYqg1YAio"
      },
      "execution_count": null,
      "outputs": []
    }
  ],
  "metadata": {
    "colab": {
      "toc_visible": true,
      "provenance": [],
      "gpuType": "T4"
    },
    "kernelspec": {
      "display_name": "Python 3",
      "name": "python3"
    },
    "language_info": {
      "name": "python"
    },
    "accelerator": "GPU"
  },
  "nbformat": 4,
  "nbformat_minor": 0
}